{
 "cells": [
  {
   "cell_type": "markdown",
   "metadata": {},
   "source": [
    "# Diccionarios, Sets y Programación Orientada a Objetos"
   ]
  },
  {
   "cell_type": "code",
   "execution_count": 158,
   "metadata": {},
   "outputs": [],
   "source": [
    "x=[]\n",
    "y=[]\n",
    "with open(\"C:/Users/WTut/Libro1.csv\", \"r\") as datos:\n",
    "    next(datos, None)\n",
    "    for fila in datos:\n",
    "        fila = fila.rstrip() #leer fila por fila\n",
    "        separador = \",\"\n",
    "        lista = fila.split(\",\")\n",
    "        xi = float(lista[0])\n",
    "        yi = float(lista[1])\n",
    "        \n",
    "        x.append(xi)\n",
    "        y.append(yi)\n",
    "       \n",
    "        "
   ]
  },
  {
   "cell_type": "code",
   "execution_count": 159,
   "metadata": {},
   "outputs": [],
   "source": [
    "def producto(a,b):\n",
    "    if len(a[0])==len(b):\n",
    "        c = []\n",
    "        for i in range(len(a)):\n",
    "            c.append([])\n",
    "            for j in range(len(b[0])):\n",
    "                c[i].append(0)\n",
    "            for i in range(len(a)):\n",
    "                for j in range(len(b[0])):\n",
    "                    for k in range(len(a[0])):\n",
    "                        c[i][j] += a[i][k]* b[k][j]\n",
    "        return c\n",
    "    else:\n",
    "        return None\n",
    "x1=[x[i:i+len(x)] for i in range(0, len(x), len(x))]\n",
    "y1=[y[i:i+1] for i in range(0, len(y), 1)]\n",
    "xysum = producto(x1,y1)\n",
    "x2=[x[i:i+1] for i in range(0, len(x), 1)]\n",
    "y2=[y[i:i+len(y)] for i in range(0, len(y), len(y))]\n",
    "\n",
    "xcuadsum=producto(x1,x2)\n",
    "ycuadsum=producto(y2,y1)\n",
    "\n",
    "\n",
    "beta1 = round((sum(xysum[0]) - (sum(y)*sum(x))/len(x))/(sum(xcuadsum[0])-((sum(x)*sum(x))/len(x))),4)\n",
    "beta0 = round (sum(y)/len(y) - (beta1*(sum(x)/len(x))),4)\n"
   ]
  },
  {
   "cell_type": "code",
   "execution_count": 236,
   "metadata": {},
   "outputs": [],
   "source": [
    "R= (sum(xysum[0]) - (sum(y)*sum(x))/len(x))/((sum(xcuadsum[0])-((sum(x)*sum(x))/len(x)))*\n",
    "                                              (sum(ycuadsum[0])-((sum(y)*sum(y))/len(y))))**(1/2)\n",
    "\n",
    "r_cuadrado=R*R"
   ]
  },
  {
   "cell_type": "markdown",
   "metadata": {},
   "source": [
    "## Class my_regression ()"
   ]
  },
  {
   "cell_type": "code",
   "execution_count": 260,
   "metadata": {},
   "outputs": [],
   "source": [
    "class my_regresion():\n",
    "    def __init__ (self,x:list, y:list):\n",
    "        self.beta0 = beta0\n",
    "        self.beta1 = beta1\n",
    "        self.x = x\n",
    "        self.y = y\n",
    "\n",
    "    def predict (self,val):#Método para hacer la predicción dado un valor\n",
    "        self.val = val\n",
    "        print(f\"El modelo estima que para X = {self.val}, la variable dependiente (Y):  será de: {round (self.beta0 + self.beta1*self.val,2)}\")\n",
    "    \n",
    "    def predictN (self):\n",
    "        self.vals = list(int(num) for num in input(\"Ingrese los valores X y Y separados por coma\").strip().split(\",\"))\n",
    "        for i in self.vals:\n",
    "            print(f\" Para X = {i}, se estima que Y sea = {self.beta0 + self.beta1*i}\")\n",
    "            \n",
    "    def r2 (self):\n",
    "        print(r_cuadrado)\n",
    "    def r (self):\n",
    "        print (R)\n",
    "    def getAllParams(self):\n",
    "        print(f\"beta1:{self.beta1} beta0:{self.beta0} r:{R} rcuadrado:{r_cuadrado} \")"
   ]
  },
  {
   "cell_type": "code",
   "execution_count": 261,
   "metadata": {},
   "outputs": [],
   "source": [
    "regresion = my_regresion(x,y)"
   ]
  },
  {
   "cell_type": "code",
   "execution_count": 244,
   "metadata": {},
   "outputs": [
    {
     "data": {
      "text/plain": [
       "313.9501"
      ]
     },
     "execution_count": 244,
     "metadata": {},
     "output_type": "execute_result"
    }
   ],
   "source": [
    "regresion.beta0"
   ]
  },
  {
   "cell_type": "code",
   "execution_count": 245,
   "metadata": {},
   "outputs": [
    {
     "data": {
      "text/plain": [
       "95.5588"
      ]
     },
     "execution_count": 245,
     "metadata": {},
     "output_type": "execute_result"
    }
   ],
   "source": [
    "regresion.beta1"
   ]
  },
  {
   "cell_type": "code",
   "execution_count": 246,
   "metadata": {},
   "outputs": [
    {
     "name": "stdout",
     "output_type": "stream",
     "text": [
      "El modelo estima que para X = 5, la variable dependiente (Y):  será de: 791.74\n"
     ]
    }
   ],
   "source": [
    "regresion.predict(5)"
   ]
  },
  {
   "cell_type": "code",
   "execution_count": 247,
   "metadata": {},
   "outputs": [
    {
     "name": "stdout",
     "output_type": "stream",
     "text": [
      "0.9497554942548387\n"
     ]
    }
   ],
   "source": [
    "regresion.r2()"
   ]
  },
  {
   "cell_type": "code",
   "execution_count": 248,
   "metadata": {},
   "outputs": [
    {
     "name": "stdout",
     "output_type": "stream",
     "text": [
      "0.974553997608567\n"
     ]
    }
   ],
   "source": [
    "regresion.r()"
   ]
  },
  {
   "cell_type": "code",
   "execution_count": 263,
   "metadata": {},
   "outputs": [
    {
     "name": "stdin",
     "output_type": "stream",
     "text": [
      "Ingrese los valores X y Y separados por coma 5,6\n"
     ]
    },
    {
     "name": "stdout",
     "output_type": "stream",
     "text": [
      " Para X = 5, se estima que Y sea = 791.7441000000001\n",
      " Para X = 6, se estima que Y sea = 887.3029\n"
     ]
    }
   ],
   "source": [
    "regresion.predictN()"
   ]
  },
  {
   "cell_type": "code",
   "execution_count": 262,
   "metadata": {},
   "outputs": [
    {
     "name": "stdout",
     "output_type": "stream",
     "text": [
      "beta1:95.5588 beta0:313.9501 r:0.974553997608567 rcuad:0.9497554942548387 \n"
     ]
    }
   ],
   "source": [
    "regresion.getAllParams()"
   ]
  }
 ],
 "metadata": {
  "kernelspec": {
   "display_name": "Python 3",
   "language": "python",
   "name": "python3"
  },
  "language_info": {
   "codemirror_mode": {
    "name": "ipython",
    "version": 3
   },
   "file_extension": ".py",
   "mimetype": "text/x-python",
   "name": "python",
   "nbconvert_exporter": "python",
   "pygments_lexer": "ipython3",
   "version": "3.7.4"
  }
 },
 "nbformat": 4,
 "nbformat_minor": 4
}
