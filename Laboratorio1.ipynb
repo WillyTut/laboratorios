{
 "cells": [
  {
   "cell_type": "markdown",
   "metadata": {},
   "source": [
    "\n",
    "# Sistema de control de versiones\n",
    "\n",
    "\n",
    "__Wily Tut__\n",
    "\n",
    "_Ciencia de Datos en Python_\n",
    "\n",
    "Febrero `2021`\n",
    "***\n"
   ]
  },
  {
   "cell_type": "markdown",
   "metadata": {},
   "source": [
    "## 1. Definiciones\n"
   ]
  },
  {
   "cell_type": "markdown",
   "metadata": {},
   "source": [
    "\n",
    "Se llama control de versiones a la gestión delos diversos cambios queserealizan sobrelos elementos de algún producto o una configuración delmismo.Una versión,revisión o edición de un producto, es el estado en el que se encuentra dicho producto en un momento dado de su desarrollo o modificación. Aunque un sistema de control de versiones puede realizarse de forma manual, es muy aconsejable disponer de herramientas que faciliten esta gestión dando lugar a los llamados sistemas decontrol de versiones o SVC (del inglés System Version Control).\n",
    "\n",
    "Estos sistemas facilitan la administración de las distintas versiones de cada producto desarrollado, así como las posibles especializaciones realizadas (por ejemplo, para algún cliente específico). Ejemplos de este tipo de herramientas son entre otros: CVS, Subversion, SourceSafe, ClearCase, Darcs, Bazaar , Plastic SCM, Git, Mercurial, Perforce."
   ]
  },
  {
   "cell_type": "markdown",
   "metadata": {},
   "source": [
    "## 1.1 Algunos términos imporantes en el sistema de control de versiones\n",
    "\n",
    "Término | Significado\n",
    ":--------: | -------\n",
    "Repositorio (\"repository\") | El repositorio es el lugar en el que se almacenan los datos actualizados e históricos de cambios\n",
    "Revisión (\"revision\") | Una revisión es una versión determinada de la información que se gestiona\n",
    "Etiqueta (\"tag\")|Los tags permiten identificar de forma fácil revisiones importantes en el proyecto\n",
    "Rama (\"branch\")|Un conjunto de archivos puede ser ramificado o bifurcado en un punto en el tiempo de manera que, a partir de ese momento, dos copias de esos archivos se pueden desarrollar a velocidades diferentes o en formas diferentes de forma independiente el uno del otro\n",
    "Cambio (\"change\")|Un cambio (o diff, o delta) representa una modificación específica de un documento bajo el control de versiones\n",
    "Desplegar (\"checkout\")|Es crear una copia de trabajo local desde el repositorio\n",
    "Confirmar (\"commit\")|Confirmar es escribir o mezclar los cambios realizados en la copia de trabajo del repositorio\n",
    "Conflicto (\"conflict\")|Un conflicto se produce cuando diferentes partes realizan cambios en el mismo documento, y el sistema es incapaz de conciliar los cambios\n",
    "Cabeza (\"head\")|Se refiere a la última confirmación, ya sea en el tronco ('trunk') o en una rama ('branch')\n",
    "Tronco (\"trunk\")|La única línea de desarrollo que no es una rama\n",
    "Fusionar, integrar, mezclar (\"merge\")|Es una operación en la quese aplican dos tipos decambiosen un archivo o conjunto de archivos\n"
   ]
  },
  {
   "cell_type": "markdown",
   "metadata": {},
   "source": [
    "## 2. Introducción a Git\n",
    "\n",
    "Git es un sistema de control de versiones distribuido que se diferencia del resto en el modo en que modela los datos. La mayoría de los demás sistemas almacenan la información como una lista de cambios en los archivos, mientras que Git modela los datos más como un conjunto de instantáneas de un mini sistema de archivos, tal como se ilustra en la siguiente figura\n",
    "\n",
    "<img src=\"C:/Users/WTut/Desktop/git1.JPG\" title=\"Modelo de datos de Git/\">"
   ]
  },
  {
   "cell_type": "markdown",
   "metadata": {},
   "source": [
    "## 2.1 Los tres estados\n",
    "\n",
    "Git tiene tres estados principales en los quese pueden encontrar lus archivos:confirmado (committed), modificado (modified), y preparado (staged). \n",
    "\n",
    "__Confirmado__ significa que los datos están almacenados de manera segura en la base de datos local. \n",
    "\n",
    "__Modificado__ significa que se ha modificado el archivo pero todavía no se ha confirmado a la base de datos.\n",
    "\n",
    "__Preparado__ significa que se ha marcado un archivo modificado en su versión actual para que vaya en la próxima confirmación.\n",
    "\n",
    "Los anterior nos lleva a las tres secciones principales de un proyecto de Git: el directorio de Git(_Git directory_), el directorio de trabajo (_working directory_), y el área de preparación (_staging area_). Esto se puede ilustrar de la siguiente manera:\n",
    "\n",
    "<img src=\"C:/Users/WTut/Desktop/git2.JPG\" title=\"Modelo de datos de Git/\">\n",
    "\n",
    "En resumen, El flujo de trabajo básico en Git es algo así:\n",
    "\n",
    "1. Modificas una serie de archivos en tu directorio de trabajo.\n",
    "\n",
    "2. Preparas los archivos, añadiéndolos a tu área de preparación.\n",
    "\n",
    "3. Confirmas los cambios, lo que toma los archivos tal y como están en el área de preparación y almacena esa copia instantánea de manera permanente en tu directorio de Git.\n"
   ]
  },
  {
   "cell_type": "markdown",
   "metadata": {},
   "source": [
    "## 2.2 Ejemplo de Git en jupyter notebook"
   ]
  },
  {
   "cell_type": "code",
   "execution_count": 5,
   "metadata": {},
   "outputs": [
    {
     "ename": "SyntaxError",
     "evalue": "invalid syntax (<ipython-input-5-7862e8d489a2>, line 1)",
     "output_type": "error",
     "traceback": [
      "\u001b[1;36m  File \u001b[1;32m\"<ipython-input-5-7862e8d489a2>\"\u001b[1;36m, line \u001b[1;32m1\u001b[0m\n\u001b[1;33m    Open terminal\u001b[0m\n\u001b[1;37m                ^\u001b[0m\n\u001b[1;31mSyntaxError\u001b[0m\u001b[1;31m:\u001b[0m invalid syntax\n"
     ]
    }
   ],
   "source": []
  },
  {
   "cell_type": "code",
   "execution_count": null,
   "metadata": {},
   "outputs": [],
   "source": []
  }
 ],
 "metadata": {
  "kernelspec": {
   "display_name": "Python 3",
   "language": "python",
   "name": "python3"
  },
  "language_info": {
   "codemirror_mode": {
    "name": "ipython",
    "version": 3
   },
   "file_extension": ".py",
   "mimetype": "text/x-python",
   "name": "python",
   "nbconvert_exporter": "python",
   "pygments_lexer": "ipython3",
   "version": "3.7.4"
  }
 },
 "nbformat": 4,
 "nbformat_minor": 4
}
