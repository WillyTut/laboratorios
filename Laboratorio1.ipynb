{
 "cells": [
  {
   "cell_type": "markdown",
   "metadata": {},
   "source": [
    "\n",
    "# Sistema de control de versiones\n",
    "\n",
    "\n",
    "__Wily Tut__\n",
    "\n",
    "_Ciencia de Datos en Python_\n",
    "\n",
    "Febrero `2021`\n",
    "***\n"
   ]
  },
  {
   "cell_type": "code",
   "execution_count": null,
   "metadata": {},
   "outputs": [],
   "source": []
  },
  {
   "cell_type": "markdown",
   "metadata": {},
   "source": [
    "## 1. Definiciones\n"
   ]
  },
  {
   "cell_type": "markdown",
   "metadata": {},
   "source": [
    "\n",
    "Se llama control de versiones a la gestión delos diversos cambios queserealizan sobrelos elementos de algún producto o una configuración delmismo.Una versión,revisión o edición de un producto, es el estado en el que se encuentra dicho producto en un momento dado de su desarrollo o modificación. Aunque un sistema de control de versiones puede realizarse de forma manual, es muy aconsejable disponer de herramientas que faciliten esta gestión dando lugar a los llamados sistemas decontrol de versiones o SVC (del inglés System Version Control).\n",
    "\n",
    "Estos sistemas facilitan la administración de las distintas versiones de cada producto desarrollado, así como las posibles especializaciones realizadas (por ejemplo, para algún cliente específico). Ejemplos de este tipo de herramientas son entre otros: CVS, Subversion, SourceSafe, ClearCase, Darcs, Bazaar , Plastic SCM, Git, Mercurial, Perforce."
   ]
  },
  {
   "cell_type": "markdown",
   "metadata": {},
   "source": [
    "## 1.1 Algunos términos imporantes en el sistema de control de versiones\n",
    "\n",
    "Término | Significado\n",
    ":--------: | -------\n",
    "Repositorio (\"repository\") | El repositorio es el lugar en el que se almacenan los datos actualizados e históricos de cambios\n",
    "Revisión (\"revision\") | Una revisión es una versión determinada de la información que se gestiona\n",
    "Etiqueta (\"tag\")|Los tags permiten identificar de forma fácil revisiones importantes en el proyecto\n",
    "Rama (\"branch\")|Un conjunto de archivos puede ser ramificado o bifurcado en un punto en el tiempo de manera que, a partir de ese momento, dos copias de esos archivos se pueden desarrollar a velocidades diferentes o en formas diferentes de forma independiente el uno del otro\n",
    "Cambio (\"change\")|Un cambio (o diff, o delta) representa una modificación específica de un documento bajo el control de versiones\n",
    "Desplegar (\"checkout\")|Es crear una copia de trabajo local desde el repositorio\n",
    "Confirmar (\"commit\")|Confirmar es escribir o mezclar los cambios realizados en la copia de trabajo del repositorio\n",
    "Conflicto (\"conflict\")|Un conflicto se produce cuando diferentes partes realizan cambios en el mismo documento, y el sistema es incapaz de conciliar los cambios\n",
    "Cabeza (\"head\")|Se refiere a la última confirmación, ya sea en el tronco ('trunk') o en una rama ('branch')\n",
    "Tronco (\"trunk\")|La única línea de desarrollo que no es una rama\n",
    "Fusionar, integrar, mezclar (\"merge\")|Es una operación en la que se aplican dos tipos de cambio sen un archivo o conjunto de archivos\n"
   ]
  },
  {
   "cell_type": "markdown",
   "metadata": {},
   "source": [
    "## 1.2 Puntos claves del control deversiones \n",
    "* El control de versiones es como un \"deshacer\" sin límites.\n",
    "\n",
    "* El control de versiones permite que mucha gente trabaje en lo mismo en paralelo."
   ]
  },
  {
   "cell_type": "markdown",
   "metadata": {},
   "source": [
    "## 2. Introducción a Git\n",
    "\n",
    "Git es un sistema de control de versiones distribuido que se diferencia del resto en el modo en que modela los datos. La mayoría de los demás sistemas almacenan la información como una lista de cambios en los archivos, mientras que Git modela los datos más como un conjunto de instantáneas de un mini sistema de archivos, tal como se ilustra en la siguiente figura\n",
    "\n",
    "<img src=\"C:/Users/WTut/Desktop/git1.JPG\" title=\"Modelo de datos de Git/\">"
   ]
  },
  {
   "cell_type": "markdown",
   "metadata": {},
   "source": [
    "## 2.1 Los tres estados\n",
    "\n",
    "Git tiene tres estados principales en los quese pueden encontrar lus archivos:confirmado (committed), modificado (modified), y preparado (staged). \n",
    "\n",
    "__Confirmado__ significa que los datos están almacenados de manera segura en la base de datos local. \n",
    "\n",
    "__Modificado__ significa que se ha modificado el archivo pero todavía no se ha confirmado a la base de datos.\n",
    "\n",
    "__Preparado__ significa que se ha marcado un archivo modificado en su versión actual para que vaya en la próxima confirmación.\n",
    "\n",
    "Los anterior nos lleva a las tres secciones principales de un proyecto de Git: el directorio de Git(_Git directory_), el directorio de trabajo (_working directory_), y el área de preparación (_staging area_). Esto se puede ilustrar de la siguiente manera:\n",
    "\n",
    "<img src=\"C:/Users/WTut/Desktop/git2.JPG\" title=\"Modelo de datos de Git/\">\n",
    "\n",
    "En resumen, El flujo de trabajo básico en Git es algo así:\n",
    "\n",
    "1. Modificas una serie de archivos en tu directorio de trabajo.\n",
    "\n",
    "2. Preparas los archivos, añadiéndolos a tu área de preparación.\n",
    "\n",
    "3. Confirmas los cambios, lo que toma los archivos tal y como están en el área de preparación y almacena esa copia instantánea de manera permanente en tu directorio de Git.\n"
   ]
  },
  {
   "cell_type": "markdown",
   "metadata": {},
   "source": [
    "## 2.2 Configuraciones de Git para publicar este notebook a Github"
   ]
  },
  {
   "cell_type": "code",
   "execution_count": 15,
   "metadata": {},
   "outputs": [],
   "source": [
    "#$ git init \n",
    "#$ git remote add origin https://github.com/WillyTut/laboratorios.git\n",
    "#$ git status\n",
    "#$ git add Laboratorio1.ipynb\n",
    "#$ git commit -m\"subiendo los primeros archivos\"\n",
    "#$ git push origin master"
   ]
  },
  {
   "cell_type": "markdown",
   "metadata": {},
   "source": [
    "## 3. Comentarios finales\n",
    "\n",
    "Durante la elaboración de cualquier proyecto, en muchas ocasiones se encuentra en esta situación alguna vez: parece ridículo tener varias versiones casi idénticas del mismo documento. Algunos procesadores de texto permiten lidiar con esto un poco mejor, como por ejemplo el Track Changes de Microsoft Word, el historial de versiones de Google o la grabación y visualización de cambios de LibreOffice.\n",
    "\n",
    "Los sistemas de control de versiones comienzan con una versión básica del documento y luego van guardando sólo los cambios que se hicieron en cada paso del proceso. Se puede pensar en ello como en una cinta: si se rebobina la cinta y se inicia de nuevo en el documento base, se puede reproducir cada cambio y terminar con la versión más reciente.\n",
    "\n",
    "Una vez que que se piensa en los cambios como separados del documento en sí, entonces se puede pensar en “deshacer” diferentes conjuntos de cambios en el documento base y obtener así diferentes versiones del documento. Por ejemplo, dos usuarios pueden hacer conjuntos independientes de cambios basados en el mismo documento.\n",
    "\n",
    "La importancia de Github en el sistema de versión de controles permite a los desarrolladores darle un seguimiento certero a todas las modificaciones que el código fuente recibe, de tal manera que la trazabilidad de un proyecto será facilmente visible.\n",
    "\n",
    "Por otra parte, el poder desarrollar un proyecto en paralelo, permite a los desarrolladores incrementar su eficiencia cuando se trabaja de forma colaborativa. "
   ]
  },
  {
   "cell_type": "code",
   "execution_count": 12,
   "metadata": {},
   "outputs": [
    {
     "name": "stdout",
     "output_type": "stream",
     "text": [
      "Microsoft Windows [Versión 10.0.18363.1316]\n",
      "(c) 2019 Microsoft Corporation. Todos los derechos reservados.\n",
      "\n",
      "(base) C:\\Users\\WTut>Git version\n",
      "git version 2.30.1.windows.1\n",
      "\n",
      "(base) C:\\Users\\WTut>"
     ]
    }
   ],
   "source": [
    "%%cmd\n",
    "Git version"
   ]
  },
  {
   "cell_type": "code",
   "execution_count": 14,
   "metadata": {},
   "outputs": [
    {
     "name": "stdout",
     "output_type": "stream",
     "text": [
      "Microsoft Windows [Versión 10.0.18363.1316]\n",
      "(c) 2019 Microsoft Corporation. Todos los derechos reservados.\n",
      "\n",
      "(base) C:\\Users\\WTut>where python\n",
      "D:\\Users\\WTut\\Anaconda3\\python.exe\n",
      "C:\\Program Files\\QGIS 3.6\\apps\\Python37\\python.exe\n",
      "C:\\Users\\WTut\\AppData\\Local\\Microsoft\\WindowsApps\\python.exe\n",
      "\n",
      "(base) C:\\Users\\WTut>"
     ]
    }
   ],
   "source": [
    "%%cmd\n",
    "where python"
   ]
  },
  {
   "cell_type": "code",
   "execution_count": null,
   "metadata": {},
   "outputs": [],
   "source": []
  }
 ],
 "metadata": {
  "kernelspec": {
   "display_name": "Python 3",
   "language": "python",
   "name": "python3"
  },
  "language_info": {
   "codemirror_mode": {
    "name": "ipython",
    "version": 3
   },
   "file_extension": ".py",
   "mimetype": "text/x-python",
   "name": "python",
   "nbconvert_exporter": "python",
   "pygments_lexer": "ipython3",
   "version": "3.7.4"
  }
 },
 "nbformat": 4,
 "nbformat_minor": 4
}
